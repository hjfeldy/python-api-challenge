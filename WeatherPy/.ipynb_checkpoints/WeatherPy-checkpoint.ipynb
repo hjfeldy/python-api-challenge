{
 "cells": [
  {
   "cell_type": "markdown",
   "metadata": {},
   "source": [
    "# WeatherPy\n",
    "----\n",
    "\n",
    "#### Note\n",
    "* Instructions have been included for each segment. You do not have to follow them exactly, but they are included to help you think through the steps."
   ]
  },
  {
   "cell_type": "code",
   "execution_count": 1,
   "metadata": {
    "scrolled": true
   },
   "outputs": [],
   "source": [
    "# Dependencies and Setup\n",
    "import matplotlib.pyplot as plt\n",
    "import pandas as pd\n",
    "import numpy as np\n",
    "import requests\n",
    "import time\n",
    "from scipy.stats import linregress\n",
    "\n",
    "# Import API key\n",
    "from api_keys import weather_api_key\n",
    "\n",
    "# Incorporated citipy to determine city based on latitude and longitude\n",
    "from citipy import citipy\n",
    "\n",
    "# Output File (CSV)\n",
    "output_data_file = \"output_data/cities.csv\"\n",
    "\n",
    "# Range of latitudes and longitudes\n",
    "lat_range = (-90, 90)\n",
    "lng_range = (-180, 180)"
   ]
  },
  {
   "cell_type": "markdown",
   "metadata": {},
   "source": [
    "## Generate Cities List"
   ]
  },
  {
   "cell_type": "code",
   "execution_count": 2,
   "metadata": {},
   "outputs": [
    {
     "data": {
      "text/plain": [
       "599"
      ]
     },
     "execution_count": 2,
     "metadata": {},
     "output_type": "execute_result"
    }
   ],
   "source": [
    "# List for holding lat_lngs and cities\n",
    "lat_lngs = []\n",
    "cities = []\n",
    "\n",
    "# Create a set of random lat and lng combinations\n",
    "lats = np.random.uniform(lat_range[0], lat_range[1], size=1500)\n",
    "lngs = np.random.uniform(lng_range[0], lng_range[1], size=1500)\n",
    "lat_lngs = zip(lats, lngs)\n",
    "\n",
    "# Identify nearest city for each lat, lng combination\n",
    "for lat_lng in lat_lngs:\n",
    "    city = citipy.nearest_city(lat_lng[0], lat_lng[1]).city_name\n",
    "    \n",
    "    # If the city is unique, then add it to a our cities list\n",
    "    if city not in cities:\n",
    "        cities.append(city)\n",
    "# Print the city count to confirm sufficient count\n",
    "len(cities)"
   ]
  },
  {
   "cell_type": "markdown",
   "metadata": {},
   "source": [
    "### Perform API Calls\n",
    "* Perform a weather check on each city using a series of successive API calls.\n",
    "* Include a print log of each city as it'sbeing processed (with the city number and city name).\n"
   ]
  },
  {
   "cell_type": "code",
   "execution_count": 3,
   "metadata": {
    "scrolled": true
   },
   "outputs": [
    {
     "name": "stdout",
     "output_type": "stream",
     "text": [
      "Processing city 1: cape town\n",
      "Processing city 2: thompson\n",
      "Processing city 3: faya\n",
      "Processing city 4: rikitea\n",
      "Processing city 5: vitim\n",
      "Processing city 6: mangai\n",
      "Processing city 7: belmonte\n",
      "Processing city 8: mataura\n",
      "Processing city 9: hermanus\n",
      "Processing city 10: bandarban\n",
      "Processing city 11: saint-philippe\n",
      "#!#!#!#!#!#!#!#!#!#!#!#!#!#!#!\n",
      "pribelskiy not found by OpenWeatherAPI\n",
      "#!#!#!#!#!#!#!#!#!#!#!#!#!#!#!\n",
      "Processing city 12: norman wells\n",
      "Processing city 13: bredasdorp\n",
      "Processing city 14: kodiak\n",
      "Processing city 15: port alfred\n",
      "Processing city 16: hobart\n",
      "#!#!#!#!#!#!#!#!#!#!#!#!#!#!#!\n",
      "illoqqortoormiut not found by OpenWeatherAPI\n",
      "#!#!#!#!#!#!#!#!#!#!#!#!#!#!#!\n",
      "Processing city 17: albany\n",
      "#!#!#!#!#!#!#!#!#!#!#!#!#!#!#!\n",
      "saleaula not found by OpenWeatherAPI\n",
      "#!#!#!#!#!#!#!#!#!#!#!#!#!#!#!\n",
      "Processing city 18: guasdualito\n",
      "Processing city 19: dudinka\n",
      "Processing city 20: bilma\n",
      "Processing city 21: clyde river\n",
      "Processing city 22: vaini\n",
      "Processing city 23: neyyattinkara\n",
      "Processing city 24: hobyo\n",
      "Processing city 25: east london\n",
      "Processing city 26: penzance\n",
      "Processing city 27: pokhara\n",
      "#!#!#!#!#!#!#!#!#!#!#!#!#!#!#!\n",
      "dekoa not found by OpenWeatherAPI\n",
      "#!#!#!#!#!#!#!#!#!#!#!#!#!#!#!\n",
      "Processing city 28: nyurba\n",
      "Processing city 29: punta arenas\n",
      "Processing city 30: garissa\n",
      "Processing city 31: puerto ayora\n",
      "Processing city 32: busselton\n",
      "Processing city 33: beringovskiy\n",
      "Processing city 34: isangel\n",
      "Processing city 35: hilo\n",
      "#!#!#!#!#!#!#!#!#!#!#!#!#!#!#!\n",
      "nizhneyansk not found by OpenWeatherAPI\n",
      "#!#!#!#!#!#!#!#!#!#!#!#!#!#!#!\n",
      "Processing city 36: sitka\n",
      "Processing city 37: torbay\n",
      "Processing city 38: upernavik\n",
      "Processing city 39: korla\n",
      "Processing city 40: nawabshah\n",
      "Processing city 41: haysyn\n",
      "Processing city 42: oktyabrskoye\n",
      "Processing city 43: severo-kurilsk\n",
      "Processing city 44: ushuaia\n",
      "Processing city 45: qasigiannguit\n",
      "Processing city 46: fort smith\n",
      "Processing city 47: taksimo\n",
      "Processing city 48: puerto carreno\n",
      "Processing city 49: bluff\n",
      "Processing city 50: waraseoni\n",
      "Processing city 51: inirida\n",
      "Processing city 52: ribeira grande\n",
      "Processing city 53: qaanaaq\n",
      "Processing city 54: esperance\n",
      "#!#!#!#!#!#!#!#!#!#!#!#!#!#!#!\n",
      "eskasem not found by OpenWeatherAPI\n",
      "#!#!#!#!#!#!#!#!#!#!#!#!#!#!#!\n",
      "Processing city 55: mehamn\n",
      "Processing city 56: jamestown\n",
      "Processing city 57: san cristobal\n",
      "Processing city 58: quatre cocos\n",
      "Processing city 59: gympie\n",
      "Processing city 60: necochea\n",
      "Processing city 61: nabire\n",
      "Processing city 62: mar del plata\n",
      "Processing city 63: tasiilaq\n",
      "#!#!#!#!#!#!#!#!#!#!#!#!#!#!#!\n",
      "skalistyy not found by OpenWeatherAPI\n",
      "#!#!#!#!#!#!#!#!#!#!#!#!#!#!#!\n",
      "Processing city 64: hithadhoo\n",
      "Processing city 65: labuhan\n",
      "#!#!#!#!#!#!#!#!#!#!#!#!#!#!#!\n",
      "belushya guba not found by OpenWeatherAPI\n",
      "#!#!#!#!#!#!#!#!#!#!#!#!#!#!#!\n",
      "Processing city 66: mersing\n",
      "Processing city 67: yakeshi\n",
      "Processing city 68: marki\n",
      "Processing city 69: ambunti\n",
      "Processing city 70: salalah\n",
      "#!#!#!#!#!#!#!#!#!#!#!#!#!#!#!\n",
      "taolanaro not found by OpenWeatherAPI\n",
      "#!#!#!#!#!#!#!#!#!#!#!#!#!#!#!\n",
      "Processing city 71: knysna\n",
      "Processing city 72: basco\n",
      "Processing city 73: russell\n",
      "Processing city 74: santa lucia\n",
      "Processing city 75: ilulissat\n",
      "Processing city 76: narsaq\n",
      "Processing city 77: flin flon\n",
      "Processing city 78: faanui\n",
      "Processing city 79: atuona\n",
      "#!#!#!#!#!#!#!#!#!#!#!#!#!#!#!\n",
      "amderma not found by OpenWeatherAPI\n",
      "#!#!#!#!#!#!#!#!#!#!#!#!#!#!#!\n",
      "Processing city 80: pacific grove\n",
      "Processing city 81: akyab\n",
      "Processing city 82: vardo\n",
      "Processing city 83: klaksvik\n",
      "Processing city 84: christchurch\n",
      "Processing city 85: barrow\n",
      "Processing city 86: rochefort\n",
      "Processing city 87: bandarbeyla\n",
      "Processing city 88: komsomolskiy\n",
      "Processing city 89: palaia fokaia\n",
      "Processing city 90: castro\n",
      "Processing city 91: wajima\n",
      "Processing city 92: prieska\n",
      "Processing city 93: vila\n",
      "Processing city 94: longyearbyen\n",
      "Processing city 95: midland\n",
      "Processing city 96: kutum\n",
      "Processing city 97: acapulco\n",
      "Processing city 98: chuy\n",
      "#!#!#!#!#!#!#!#!#!#!#!#!#!#!#!\n",
      "othonoi not found by OpenWeatherAPI\n",
      "#!#!#!#!#!#!#!#!#!#!#!#!#!#!#!\n",
      "#!#!#!#!#!#!#!#!#!#!#!#!#!#!#!\n",
      "haibowan not found by OpenWeatherAPI\n",
      "#!#!#!#!#!#!#!#!#!#!#!#!#!#!#!\n",
      "#!#!#!#!#!#!#!#!#!#!#!#!#!#!#!\n",
      "atka not found by OpenWeatherAPI\n",
      "#!#!#!#!#!#!#!#!#!#!#!#!#!#!#!\n",
      "Processing city 99: grand gaube\n",
      "Processing city 100: cidreira\n",
      "Processing city 101: ranong\n",
      "Processing city 102: thinadhoo\n",
      "Processing city 103: tuktoyaktuk\n",
      "Processing city 104: constitucion\n",
      "Processing city 105: bethel\n",
      "Processing city 106: lerwick\n",
      "Processing city 107: mount gambier\n",
      "Processing city 108: new norfolk\n",
      "Processing city 109: kapaa\n",
      "Processing city 110: arraial do cabo\n",
      "Processing city 111: taltal\n",
      "Processing city 112: gamba\n",
      "Processing city 113: tiksi\n",
      "Processing city 114: mahebourg\n",
      "Processing city 115: yushan\n",
      "Processing city 116: saldanha\n",
      "Processing city 117: carnarvon\n",
      "Processing city 118: katsuura\n",
      "Processing city 119: kieta\n",
      "#!#!#!#!#!#!#!#!#!#!#!#!#!#!#!\n",
      "toliary not found by OpenWeatherAPI\n",
      "#!#!#!#!#!#!#!#!#!#!#!#!#!#!#!\n",
      "Processing city 120: kavieng\n",
      "Processing city 121: fereydun kenar\n",
      "Processing city 122: byron bay\n",
      "Processing city 123: petropavlovsk-kamchatskiy\n",
      "Processing city 124: sao filipe\n",
      "Processing city 125: parkersburg\n",
      "Processing city 126: kuli\n",
      "Processing city 127: loa janan\n",
      "Processing city 128: zelenets\n",
      "Processing city 129: thomaston\n",
      "Processing city 130: geraldton\n",
      "Processing city 131: chhagalnaiya\n",
      "Processing city 132: ostrovnoy\n",
      "Processing city 133: tacuati\n",
      "Processing city 134: bambous virieux\n",
      "Processing city 135: qaqortoq\n",
      "Processing city 136: imbituba\n",
      "Processing city 137: souillac\n",
      "Processing city 138: paracuru\n",
      "Processing city 139: kalkar\n",
      "Processing city 140: nhulunbuy\n",
      "Processing city 141: derzhavinsk\n",
      "Processing city 142: jam sahib\n",
      "#!#!#!#!#!#!#!#!#!#!#!#!#!#!#!\n",
      "barentsburg not found by OpenWeatherAPI\n",
      "#!#!#!#!#!#!#!#!#!#!#!#!#!#!#!\n",
      "Processing city 143: nanortalik\n",
      "Processing city 144: tuatapere\n",
      "Processing city 145: georgetown\n",
      "Processing city 146: hami\n",
      "Processing city 147: vilhena\n",
      "Processing city 148: talnakh\n",
      "Processing city 149: port elizabeth\n",
      "#!#!#!#!#!#!#!#!#!#!#!#!#!#!#!\n",
      "mys shmidta not found by OpenWeatherAPI\n",
      "#!#!#!#!#!#!#!#!#!#!#!#!#!#!#!\n",
      "Processing city 150: hirara\n",
      "Processing city 151: meulaboh\n",
      "Processing city 152: hualmay\n",
      "Processing city 153: verkhnyaya inta\n",
      "Processing city 154: bilibino\n",
      "Processing city 155: kahului\n",
      "Processing city 156: avarua\n",
      "Processing city 157: yellowknife\n",
      "Processing city 158: hasaki\n",
      "Processing city 159: eichstatt\n",
      "Processing city 160: beyneu\n",
      "Processing city 161: leningradskiy\n",
      "Processing city 162: khatanga\n",
      "Processing city 163: dartford\n",
      "Processing city 164: soyo\n",
      "#!#!#!#!#!#!#!#!#!#!#!#!#!#!#!\n",
      "grand river south east not found by OpenWeatherAPI\n",
      "#!#!#!#!#!#!#!#!#!#!#!#!#!#!#!\n",
      "Processing city 165: chokurdakh\n",
      "Processing city 166: opuwo\n",
      "Processing city 167: iqaluit\n",
      "Processing city 168: kruisfontein\n",
      "Processing city 169: pisco\n",
      "Processing city 170: madona\n",
      "Processing city 171: zhoucheng\n",
      "#!#!#!#!#!#!#!#!#!#!#!#!#!#!#!\n",
      "mentok not found by OpenWeatherAPI\n",
      "#!#!#!#!#!#!#!#!#!#!#!#!#!#!#!\n",
      "Processing city 172: grindavik\n",
      "Processing city 173: ternate\n",
      "Processing city 174: saint-augustin\n",
      "Processing city 175: charyshskoye\n",
      "Processing city 176: svetlogorsk\n",
      "Processing city 177: butaritari\n",
      "Processing city 178: tura\n",
      "Processing city 179: lompoc\n",
      "Processing city 180: verkhniye sergi\n",
      "Processing city 181: nikolskoye\n",
      "Processing city 182: bengkulu\n",
      "Processing city 183: dingle\n",
      "Processing city 184: kavaratti\n",
      "Processing city 185: port hedland\n",
      "#!#!#!#!#!#!#!#!#!#!#!#!#!#!#!\n",
      "tabiauea not found by OpenWeatherAPI\n",
      "#!#!#!#!#!#!#!#!#!#!#!#!#!#!#!\n",
      "Processing city 186: bogorodskoye\n",
      "Processing city 187: adrar\n",
      "Processing city 188: puerto escondido\n",
      "Processing city 189: daru\n",
      "Processing city 190: lasa\n",
      "Processing city 191: yulara\n",
      "Processing city 192: nampula\n",
      "Processing city 193: vao\n",
      "Processing city 194: lafia\n",
      "Processing city 195: dergachi\n",
      "Processing city 196: kabalo\n",
      "Processing city 197: huarmey\n",
      "Processing city 198: lagoa\n",
      "Processing city 199: belyy yar\n",
      "Processing city 200: cukai\n",
      "Processing city 201: college\n",
      "Processing city 202: ucluelet\n",
      "Processing city 203: nemuro\n",
      "Processing city 204: ponta do sol\n",
      "Processing city 205: sindou\n",
      "#!#!#!#!#!#!#!#!#!#!#!#!#!#!#!\n",
      "tsihombe not found by OpenWeatherAPI\n",
      "#!#!#!#!#!#!#!#!#!#!#!#!#!#!#!\n",
      "Processing city 206: orbetello\n",
      "Processing city 207: dikson\n",
      "Processing city 208: phangnga\n",
      "#!#!#!#!#!#!#!#!#!#!#!#!#!#!#!\n",
      "tanjong sepat not found by OpenWeatherAPI\n",
      "#!#!#!#!#!#!#!#!#!#!#!#!#!#!#!\n"
     ]
    },
    {
     "name": "stdout",
     "output_type": "stream",
     "text": [
      "Processing city 209: noyabrsk\n",
      "#!#!#!#!#!#!#!#!#!#!#!#!#!#!#!\n",
      "attawapiskat not found by OpenWeatherAPI\n",
      "#!#!#!#!#!#!#!#!#!#!#!#!#!#!#!\n",
      "Processing city 210: nome\n",
      "Processing city 211: buraydah\n",
      "Processing city 212: shache\n",
      "Processing city 213: san policarpo\n",
      "Processing city 214: seoul\n",
      "Processing city 215: melilla\n",
      "Processing city 216: cayenne\n",
      "Processing city 217: kaeo\n",
      "Processing city 218: saint cloud\n",
      "Processing city 219: parabel\n",
      "Processing city 220: zhangjiakou\n",
      "Processing city 221: sainte-rose\n",
      "Processing city 222: chernihiv\n",
      "Processing city 223: ponta delgada\n",
      "Processing city 224: husavik\n",
      "Processing city 225: pinkafeld\n",
      "Processing city 226: teeli\n",
      "Processing city 227: rio gallegos\n",
      "Processing city 228: kajaani\n",
      "Processing city 229: provideniya\n",
      "Processing city 230: flinders\n",
      "Processing city 231: umm lajj\n",
      "Processing city 232: mercedes\n",
      "Processing city 233: pangnirtung\n",
      "Processing city 234: carauari\n",
      "Processing city 235: nevelsk\n",
      "Processing city 236: manicore\n",
      "Processing city 237: ouallam\n",
      "Processing city 238: arrifes\n",
      "Processing city 239: panjab\n",
      "Processing city 240: pevek\n",
      "Processing city 241: aljezur\n",
      "Processing city 242: kaitangata\n",
      "Processing city 243: fort nelson\n",
      "Processing city 244: cap malheureux\n",
      "Processing city 245: san patricio\n",
      "Processing city 246: tateyama\n",
      "Processing city 247: victoria\n",
      "Processing city 248: chadan\n",
      "Processing city 249: abu dhabi\n",
      "Processing city 250: homer\n",
      "Processing city 251: brookhaven\n",
      "Processing city 252: bathsheba\n",
      "Processing city 253: conceicao do araguaia\n",
      "Processing city 254: avera\n",
      "Processing city 255: margate\n",
      "Processing city 256: broome\n",
      "Processing city 257: stokmarknes\n",
      "Processing city 258: wonosari\n",
      "Processing city 259: bambanglipuro\n",
      "Processing city 260: nipawin\n",
      "Processing city 261: price\n",
      "Processing city 262: soubre\n",
      "Processing city 263: sibolga\n",
      "Processing city 264: tonstad\n",
      "Processing city 265: rio verde de mato grosso\n",
      "Processing city 266: calbuco\n",
      "Processing city 267: balkhash\n",
      "Processing city 268: saint george\n",
      "Processing city 269: okhotsk\n",
      "Processing city 270: villazon\n",
      "Processing city 271: chegutu\n",
      "Processing city 272: vallenar\n",
      "Processing city 273: izumo\n",
      "Processing city 274: dongning\n",
      "Processing city 275: grajau\n",
      "Processing city 276: cherskiy\n",
      "Processing city 277: kostinbrod\n",
      "Processing city 278: egvekinot\n",
      "Processing city 279: fortuna\n",
      "#!#!#!#!#!#!#!#!#!#!#!#!#!#!#!\n",
      "gonyu not found by OpenWeatherAPI\n",
      "#!#!#!#!#!#!#!#!#!#!#!#!#!#!#!\n",
      "Processing city 280: lucea\n",
      "Processing city 281: talas\n",
      "Processing city 282: popondetta\n",
      "Processing city 283: gorontalo\n",
      "Processing city 284: lebu\n",
      "#!#!#!#!#!#!#!#!#!#!#!#!#!#!#!\n",
      "dzhusaly not found by OpenWeatherAPI\n",
      "#!#!#!#!#!#!#!#!#!#!#!#!#!#!#!\n",
      "Processing city 285: qeshm\n",
      "Processing city 286: sinnamary\n",
      "Processing city 287: atlantic city\n",
      "Processing city 288: airai\n",
      "Processing city 289: pascagoula\n",
      "Processing city 290: mezen\n",
      "Processing city 291: kingsville\n",
      "Processing city 292: champerico\n",
      "Processing city 293: tilichiki\n",
      "Processing city 294: chiredzi\n",
      "Processing city 295: sistranda\n",
      "Processing city 296: callaway\n",
      "Processing city 297: villa union\n",
      "Processing city 298: cardoso\n",
      "#!#!#!#!#!#!#!#!#!#!#!#!#!#!#!\n",
      "kuche not found by OpenWeatherAPI\n",
      "#!#!#!#!#!#!#!#!#!#!#!#!#!#!#!\n",
      "#!#!#!#!#!#!#!#!#!#!#!#!#!#!#!\n",
      "umzimvubu not found by OpenWeatherAPI\n",
      "#!#!#!#!#!#!#!#!#!#!#!#!#!#!#!\n",
      "Processing city 299: riyadh\n",
      "#!#!#!#!#!#!#!#!#!#!#!#!#!#!#!\n",
      "talah not found by OpenWeatherAPI\n",
      "#!#!#!#!#!#!#!#!#!#!#!#!#!#!#!\n",
      "#!#!#!#!#!#!#!#!#!#!#!#!#!#!#!\n",
      "paradwip not found by OpenWeatherAPI\n",
      "#!#!#!#!#!#!#!#!#!#!#!#!#!#!#!\n",
      "#!#!#!#!#!#!#!#!#!#!#!#!#!#!#!\n",
      "dinsor not found by OpenWeatherAPI\n",
      "#!#!#!#!#!#!#!#!#!#!#!#!#!#!#!\n",
      "Processing city 300: plettenberg bay\n",
      "Processing city 301: kipini\n",
      "Processing city 302: bosaso\n",
      "Processing city 303: molochnyy\n",
      "Processing city 304: mongo\n",
      "Processing city 305: pundaguitan\n",
      "Processing city 306: ancud\n",
      "Processing city 307: chilca\n",
      "Processing city 308: sioux lookout\n",
      "Processing city 309: irbit\n",
      "Processing city 310: matamoros\n",
      "Processing city 311: karpogory\n",
      "Processing city 312: chapleau\n",
      "Processing city 313: kijang\n",
      "Processing city 314: anadyr\n",
      "Processing city 315: drovyanaya\n",
      "Processing city 316: sinjar\n",
      "Processing city 317: sabha\n",
      "#!#!#!#!#!#!#!#!#!#!#!#!#!#!#!\n",
      "lalomanu not found by OpenWeatherAPI\n",
      "#!#!#!#!#!#!#!#!#!#!#!#!#!#!#!\n",
      "Processing city 318: gaoua\n",
      "Processing city 319: naze\n",
      "Processing city 320: zhanaozen\n",
      "#!#!#!#!#!#!#!#!#!#!#!#!#!#!#!\n",
      "lolua not found by OpenWeatherAPI\n",
      "#!#!#!#!#!#!#!#!#!#!#!#!#!#!#!\n",
      "Processing city 321: jalu\n",
      "Processing city 322: port hardy\n",
      "Processing city 323: baijiantan\n",
      "Processing city 324: manokwari\n",
      "Processing city 325: lazurne\n",
      "Processing city 326: mitsamiouli\n",
      "Processing city 327: wattegama\n",
      "Processing city 328: belaya gora\n",
      "Processing city 329: qingyuan\n",
      "Processing city 330: paamiut\n",
      "Processing city 331: axim\n",
      "Processing city 332: am timan\n",
      "Processing city 333: taoudenni\n",
      "Processing city 334: gotsu\n",
      "Processing city 335: linqiong\n",
      "Processing city 336: srednekolymsk\n",
      "Processing city 337: santa cecilia\n",
      "Processing city 338: koubia\n",
      "Processing city 339: mwinilunga\n",
      "Processing city 340: caravelas\n",
      "Processing city 341: kununurra\n",
      "Processing city 342: marstal\n",
      "Processing city 343: high level\n",
      "Processing city 344: olovyannaya\n",
      "Processing city 345: chepareria\n",
      "Processing city 346: san jeronimo\n",
      "Processing city 347: lake jackson\n",
      "Processing city 348: port lincoln\n",
      "Processing city 349: grand-santi\n",
      "Processing city 350: hit\n",
      "Processing city 351: mbandaka\n",
      "Processing city 352: los llanos de aridane\n",
      "Processing city 353: barkhan\n",
      "Processing city 354: davila\n",
      "Processing city 355: sri aman\n",
      "Processing city 356: sumbe\n",
      "Processing city 357: rawson\n",
      "Processing city 358: ganzhou\n",
      "Processing city 359: ust-karsk\n",
      "#!#!#!#!#!#!#!#!#!#!#!#!#!#!#!\n",
      "tunduru not found by OpenWeatherAPI\n",
      "#!#!#!#!#!#!#!#!#!#!#!#!#!#!#!\n",
      "Processing city 360: alofi\n",
      "Processing city 361: port macquarie\n",
      "Processing city 362: gat\n",
      "Processing city 363: bourail\n",
      "Processing city 364: bontang\n",
      "Processing city 365: valparaiso\n",
      "Processing city 366: muzhi\n",
      "Processing city 367: mangrol\n",
      "Processing city 368: gonbad-e qabus\n",
      "Processing city 369: fredericksburg\n",
      "Processing city 370: yerbogachen\n",
      "Processing city 371: paldiski\n",
      "Processing city 372: briancon\n",
      "Processing city 373: columbus\n",
      "Processing city 374: kolomyya\n",
      "Processing city 375: kirakira\n",
      "Processing city 376: kodinsk\n",
      "Processing city 377: dali\n",
      "Processing city 378: tazovskiy\n",
      "Processing city 379: port blair\n",
      "Processing city 380: mukhen\n",
      "Processing city 381: guerrero negro\n",
      "Processing city 382: atar\n",
      "Processing city 383: abha\n",
      "Processing city 384: helong\n",
      "Processing city 385: barsovo\n",
      "Processing city 386: maturin\n",
      "Processing city 387: kindu\n",
      "Processing city 388: hua hin\n",
      "#!#!#!#!#!#!#!#!#!#!#!#!#!#!#!\n",
      "palabuhanratu not found by OpenWeatherAPI\n",
      "#!#!#!#!#!#!#!#!#!#!#!#!#!#!#!\n",
      "Processing city 389: kuvshinovo\n",
      "Processing city 390: winnemucca\n",
      "Processing city 391: pecos\n",
      "Processing city 392: damietta\n",
      "Processing city 393: alta floresta\n",
      "Processing city 394: la ronge\n",
      "Processing city 395: shenjiamen\n",
      "Processing city 396: savannah bight\n",
      "#!#!#!#!#!#!#!#!#!#!#!#!#!#!#!\n",
      "sahrak not found by OpenWeatherAPI\n",
      "#!#!#!#!#!#!#!#!#!#!#!#!#!#!#!\n",
      "Processing city 397: esil\n",
      "Processing city 398: pimentel\n",
      "Processing city 399: rongcheng\n",
      "#!#!#!#!#!#!#!#!#!#!#!#!#!#!#!\n",
      "kamenskoye not found by OpenWeatherAPI\n",
      "#!#!#!#!#!#!#!#!#!#!#!#!#!#!#!\n",
      "Processing city 400: kattivakkam\n",
      "Processing city 401: divnomorskoye\n",
      "Processing city 402: bima\n",
      "Processing city 403: gornopravdinsk\n",
      "Processing city 404: saint-pierre\n",
      "Processing city 405: portobelo\n",
      "Processing city 406: nizhnyaya poyma\n",
      "Processing city 407: karaman\n",
      "Processing city 408: sola\n",
      "Processing city 409: baykit\n",
      "Processing city 410: hofn\n",
      "Processing city 411: azul\n",
      "Processing city 412: kloulklubed\n",
      "Processing city 413: ashqelon\n",
      "Processing city 414: karratha\n",
      "#!#!#!#!#!#!#!#!#!#!#!#!#!#!#!\n",
      "ngukurr not found by OpenWeatherAPI\n",
      "#!#!#!#!#!#!#!#!#!#!#!#!#!#!#!\n",
      "Processing city 415: sabya\n",
      "Processing city 416: buala\n",
      "Processing city 417: leh\n",
      "Processing city 418: samarai\n",
      "Processing city 419: phalaborwa\n",
      "Processing city 420: ixtapa\n",
      "#!#!#!#!#!#!#!#!#!#!#!#!#!#!#!\n",
      "kadykchan not found by OpenWeatherAPI\n",
      "#!#!#!#!#!#!#!#!#!#!#!#!#!#!#!\n",
      "Processing city 421: sao joao do paraiso\n",
      "Processing city 422: hambantota\n",
      "Processing city 423: banda aceh\n",
      "Processing city 424: aswan\n",
      "Processing city 425: santa rosa del sur\n",
      "Processing city 426: vaitape\n",
      "Processing city 427: portland\n"
     ]
    },
    {
     "name": "stdout",
     "output_type": "stream",
     "text": [
      "Processing city 428: hanyang\n",
      "Processing city 429: takoradi\n",
      "Processing city 430: rivera\n",
      "Processing city 431: bardiyah\n",
      "Processing city 432: sembakung\n",
      "Processing city 433: waipawa\n",
      "Processing city 434: coquimbo\n",
      "Processing city 435: yar-sale\n",
      "#!#!#!#!#!#!#!#!#!#!#!#!#!#!#!\n",
      "fort saint john not found by OpenWeatherAPI\n",
      "#!#!#!#!#!#!#!#!#!#!#!#!#!#!#!\n",
      "Processing city 436: lavrentiya\n",
      "#!#!#!#!#!#!#!#!#!#!#!#!#!#!#!\n",
      "tumannyy not found by OpenWeatherAPI\n",
      "#!#!#!#!#!#!#!#!#!#!#!#!#!#!#!\n",
      "#!#!#!#!#!#!#!#!#!#!#!#!#!#!#!\n",
      "samalaeulu not found by OpenWeatherAPI\n",
      "#!#!#!#!#!#!#!#!#!#!#!#!#!#!#!\n",
      "Processing city 437: aykhal\n",
      "Processing city 438: muscat\n",
      "Processing city 439: catamarca\n",
      "Processing city 440: halifax\n",
      "Processing city 441: raudeberg\n",
      "Processing city 442: gimli\n",
      "Processing city 443: ahipara\n",
      "Processing city 444: adolfo lopez mateos\n",
      "Processing city 445: malindi\n",
      "Processing city 446: altamira\n",
      "Processing city 447: vila franca do campo\n",
      "Processing city 448: vila velha\n",
      "#!#!#!#!#!#!#!#!#!#!#!#!#!#!#!\n",
      "crab hill not found by OpenWeatherAPI\n",
      "#!#!#!#!#!#!#!#!#!#!#!#!#!#!#!\n",
      "Processing city 449: aklavik\n",
      "Processing city 450: bud\n",
      "Processing city 451: garchitorena\n",
      "Processing city 452: yenagoa\n",
      "Processing city 453: encantado\n",
      "Processing city 454: middle island\n",
      "Processing city 455: ola\n",
      "Processing city 456: kalabo\n",
      "Processing city 457: tezu\n",
      "Processing city 458: susehri\n",
      "Processing city 459: kerema\n",
      "Processing city 460: kirishi\n",
      "Processing city 461: dabakala\n",
      "Processing city 462: codrington\n",
      "Processing city 463: ureki\n",
      "Processing city 464: kailua\n",
      "Processing city 465: andenes\n",
      "Processing city 466: te anau\n",
      "Processing city 467: saskylakh\n",
      "Processing city 468: berea\n",
      "Processing city 469: luderitz\n",
      "Processing city 470: santa cruz del sur\n",
      "Processing city 471: herat\n",
      "Processing city 472: saqqez\n",
      "Processing city 473: shingu\n",
      "Processing city 474: agadez\n",
      "Processing city 475: jiangkou\n",
      "Processing city 476: dorado\n",
      "Processing city 477: yarmouth\n",
      "Processing city 478: mildura\n",
      "Processing city 479: novomykolayivka\n",
      "Processing city 480: longonjo\n",
      "Processing city 481: port-gentil\n",
      "Processing city 482: tulagi\n",
      "Processing city 483: loubomo\n",
      "#!#!#!#!#!#!#!#!#!#!#!#!#!#!#!\n",
      "warqla not found by OpenWeatherAPI\n",
      "#!#!#!#!#!#!#!#!#!#!#!#!#!#!#!\n",
      "Processing city 484: tacna\n",
      "Processing city 485: raga\n",
      "Processing city 486: beroroha\n",
      "Processing city 487: gbarnga\n",
      "Processing city 488: leshukonskoye\n",
      "Processing city 489: turayf\n",
      "Processing city 490: ngunguru\n",
      "Processing city 491: nagapattinam\n",
      "Processing city 492: menzelinsk\n",
      "Processing city 493: batagay\n",
      "Processing city 494: chapais\n",
      "Processing city 495: dilla\n",
      "Processing city 496: bejar\n",
      "Processing city 497: alyangula\n",
      "#!#!#!#!#!#!#!#!#!#!#!#!#!#!#!\n",
      "fevralsk not found by OpenWeatherAPI\n",
      "#!#!#!#!#!#!#!#!#!#!#!#!#!#!#!\n",
      "Processing city 498: cabedelo\n",
      "Processing city 499: teknaf\n",
      "Processing city 500: hailun\n",
      "Processing city 501: saint-leu\n",
      "Processing city 502: mbala\n",
      "Processing city 503: alberton\n",
      "Processing city 504: solginskiy\n",
      "Processing city 505: bals\n",
      "Processing city 506: inongo\n",
      "Processing city 507: gumla\n",
      "Processing city 508: santa maria da vitoria\n",
      "Processing city 509: dickinson\n",
      "Processing city 510: dalgopol\n",
      "Processing city 511: shelburne\n",
      "Processing city 512: west monroe\n",
      "Processing city 513: port moresby\n",
      "Processing city 514: wamba\n",
      "Processing city 515: hokitika\n",
      "Processing city 516: ratnagiri\n",
      "Processing city 517: kefar shemaryahu\n",
      "Processing city 518: dehloran\n",
      "Processing city 519: sampit\n",
      "Processing city 520: mirnyy\n",
      "Processing city 521: san juan\n",
      "Processing city 522: palmas bellas\n",
      "#!#!#!#!#!#!#!#!#!#!#!#!#!#!#!\n",
      "sataua not found by OpenWeatherAPI\n",
      "#!#!#!#!#!#!#!#!#!#!#!#!#!#!#!\n",
      "Processing city 523: padang\n",
      "Processing city 524: verkhnevilyuysk\n",
      "Processing city 525: jiayuguan\n",
      "Processing city 526: ulladulla\n",
      "Processing city 527: ourossogui\n",
      "Processing city 528: prince rupert\n",
      "Processing city 529: goderich\n",
      "Processing city 530: seymchan\n",
      "Processing city 531: ligayan\n",
      "Processing city 532: sergeyevka\n",
      "Processing city 533: cabo san lucas\n",
      "Processing city 534: santiago\n",
      "Processing city 535: zwedru\n",
      "Processing city 536: jambi\n",
      "Processing city 537: samana\n",
      "Processing city 538: lata\n",
      "Processing city 539: vostok\n",
      "Processing city 540: hovd\n",
      "Processing city 541: asau\n",
      "Processing city 542: the valley\n",
      "Processing city 543: pasaje\n",
      "#!#!#!#!#!#!#!#!#!#!#!#!#!#!#!\n",
      "labutta not found by OpenWeatherAPI\n",
      "#!#!#!#!#!#!#!#!#!#!#!#!#!#!#!\n",
      "Processing city 544: pathalgaon\n",
      "Processing city 545: richards bay\n",
      "Processing city 546: sinegorye\n",
      "Processing city 547: keningau\n",
      "Processing city 548: surgut\n",
      "Processing city 549: ennis\n",
      "#!#!#!#!#!#!#!#!#!#!#!#!#!#!#!\n",
      "vaitupu not found by OpenWeatherAPI\n",
      "#!#!#!#!#!#!#!#!#!#!#!#!#!#!#!\n",
      "Processing city 550: yumen\n",
      "Processing city 551: yashalta\n",
      "Processing city 552: ust-koksa\n",
      "Processing city 553: takaka\n"
     ]
    }
   ],
   "source": [
    "df = {'Lat': [], 'Lon': [], 'City': [], 'Country': [] , 'Description': [], 'Temp': [], 'Pressure': [],\n",
    "      'Humidity': [], 'Windspeed': [], 'Cloud Cover': [] }\n",
    "\n",
    "count = 1\n",
    "for city in cities:\n",
    "    \n",
    "    res = requests.get(f'http://api.openweathermap.org/data/2.5/weather?q={city}&units=imperial&appid={weather_api_key}')\n",
    "    if res.status_code == 404:\n",
    "        print(f'#!#!#!#!#!#!#!#!#!#!#!#!#!#!#!\\n{city} not found by OpenWeatherAPI\\n#!#!#!#!#!#!#!#!#!#!#!#!#!#!#!')\n",
    "        continue\n",
    "    print(f'Processing city {count}: {city}')\n",
    "    \n",
    "    \n",
    "    lat = res.json()['coord']['lat']\n",
    "    lon = res.json()['coord']['lon']\n",
    "#You guys forgot to tell us to keep track of the country... super annoying. We need this for the next activity\n",
    "#I had to go back and redo this - complete waste of time. \n",
    "\n",
    "    country = citipy.nearest_city(lat, lon).country_code\n",
    "    desc = res.json()['weather'][0]['description']\n",
    "    temp = res.json()['main']['temp_max']\n",
    "    press = res.json()['main']['pressure']\n",
    "    humid = res.json()['main']['humidity']\n",
    "    wind = res.json()['wind']['speed']\n",
    "    cloud = res.json()['clouds']['all']\n",
    "    lst = [lat, lon, city, country, desc, temp, press, humid, wind, cloud]\n",
    "    \n",
    "    \n",
    "    i = 0\n",
    "    for key in df.keys():\n",
    "        \n",
    "        df[key].append(lst[i])\n",
    "        i += 1\n",
    "    count += 1\n",
    "        \n"
   ]
  },
  {
   "cell_type": "markdown",
   "metadata": {},
   "source": [
    "### Convert Raw Data to DataFrame\n",
    "* Export the city data into a .csv.\n",
    "* Display the DataFrame"
   ]
  },
  {
   "cell_type": "code",
   "execution_count": 4,
   "metadata": {},
   "outputs": [],
   "source": [
    "df = pd.DataFrame(df)\n",
    "df.to_csv('..//' + output_data_file)\n"
   ]
  },
  {
   "cell_type": "code",
   "execution_count": 5,
   "metadata": {},
   "outputs": [
    {
     "data": {
      "text/plain": [
       "553"
      ]
     },
     "execution_count": 5,
     "metadata": {},
     "output_type": "execute_result"
    }
   ],
   "source": [
    "len(df['Humidity'])"
   ]
  },
  {
   "cell_type": "markdown",
   "metadata": {},
   "source": [
    "## Inspect the data and remove the cities where the humidity > 100%.\n",
    "----\n",
    "Skip this step if there are no cities that have humidity > 100%. "
   ]
  },
  {
   "cell_type": "code",
   "execution_count": 6,
   "metadata": {},
   "outputs": [],
   "source": [
    "#  Get the indices of cities that have humidity over 100%.\n"
   ]
  },
  {
   "cell_type": "code",
   "execution_count": 7,
   "metadata": {},
   "outputs": [],
   "source": [
    "# Make a new DataFrame equal to the city data to drop all humidity outliers by index.\n",
    "# Passing \"inplace=False\" will make a copy of the city_data DataFrame, which we call \"clean_city_data\".\n",
    "\n"
   ]
  },
  {
   "cell_type": "code",
   "execution_count": 8,
   "metadata": {},
   "outputs": [
    {
     "data": {
      "text/html": [
       "<div>\n",
       "<style scoped>\n",
       "    .dataframe tbody tr th:only-of-type {\n",
       "        vertical-align: middle;\n",
       "    }\n",
       "\n",
       "    .dataframe tbody tr th {\n",
       "        vertical-align: top;\n",
       "    }\n",
       "\n",
       "    .dataframe thead th {\n",
       "        text-align: right;\n",
       "    }\n",
       "</style>\n",
       "<table border=\"1\" class=\"dataframe\">\n",
       "  <thead>\n",
       "    <tr style=\"text-align: right;\">\n",
       "      <th></th>\n",
       "      <th>Lat</th>\n",
       "      <th>Lon</th>\n",
       "      <th>City</th>\n",
       "      <th>Country</th>\n",
       "      <th>Description</th>\n",
       "      <th>Temp</th>\n",
       "      <th>Pressure</th>\n",
       "      <th>Humidity</th>\n",
       "      <th>Windspeed</th>\n",
       "      <th>Cloud Cover</th>\n",
       "    </tr>\n",
       "  </thead>\n",
       "  <tbody>\n",
       "    <tr>\n",
       "      <th>0</th>\n",
       "      <td>-33.93</td>\n",
       "      <td>18.42</td>\n",
       "      <td>cape town</td>\n",
       "      <td>za</td>\n",
       "      <td>clear sky</td>\n",
       "      <td>61.00</td>\n",
       "      <td>1012</td>\n",
       "      <td>82</td>\n",
       "      <td>1.12</td>\n",
       "      <td>0</td>\n",
       "    </tr>\n",
       "    <tr>\n",
       "      <th>1</th>\n",
       "      <td>55.74</td>\n",
       "      <td>-97.86</td>\n",
       "      <td>thompson</td>\n",
       "      <td>ca</td>\n",
       "      <td>clear sky</td>\n",
       "      <td>-16.60</td>\n",
       "      <td>1021</td>\n",
       "      <td>75</td>\n",
       "      <td>5.82</td>\n",
       "      <td>5</td>\n",
       "    </tr>\n",
       "    <tr>\n",
       "      <th>2</th>\n",
       "      <td>18.39</td>\n",
       "      <td>42.45</td>\n",
       "      <td>faya</td>\n",
       "      <td>sa</td>\n",
       "      <td>clear sky</td>\n",
       "      <td>51.80</td>\n",
       "      <td>1024</td>\n",
       "      <td>49</td>\n",
       "      <td>1.19</td>\n",
       "      <td>0</td>\n",
       "    </tr>\n",
       "    <tr>\n",
       "      <th>3</th>\n",
       "      <td>-23.12</td>\n",
       "      <td>-134.97</td>\n",
       "      <td>rikitea</td>\n",
       "      <td>pf</td>\n",
       "      <td>scattered clouds</td>\n",
       "      <td>76.37</td>\n",
       "      <td>1015</td>\n",
       "      <td>68</td>\n",
       "      <td>5.70</td>\n",
       "      <td>39</td>\n",
       "    </tr>\n",
       "    <tr>\n",
       "      <th>4</th>\n",
       "      <td>59.45</td>\n",
       "      <td>112.56</td>\n",
       "      <td>vitim</td>\n",
       "      <td>ru</td>\n",
       "      <td>broken clouds</td>\n",
       "      <td>-22.70</td>\n",
       "      <td>1037</td>\n",
       "      <td>81</td>\n",
       "      <td>4.92</td>\n",
       "      <td>68</td>\n",
       "    </tr>\n",
       "    <tr>\n",
       "      <th>...</th>\n",
       "      <td>...</td>\n",
       "      <td>...</td>\n",
       "      <td>...</td>\n",
       "      <td>...</td>\n",
       "      <td>...</td>\n",
       "      <td>...</td>\n",
       "      <td>...</td>\n",
       "      <td>...</td>\n",
       "      <td>...</td>\n",
       "      <td>...</td>\n",
       "    </tr>\n",
       "    <tr>\n",
       "      <th>548</th>\n",
       "      <td>52.84</td>\n",
       "      <td>-8.99</td>\n",
       "      <td>ennis</td>\n",
       "      <td>ie</td>\n",
       "      <td>broken clouds</td>\n",
       "      <td>48.20</td>\n",
       "      <td>981</td>\n",
       "      <td>87</td>\n",
       "      <td>13.87</td>\n",
       "      <td>75</td>\n",
       "    </tr>\n",
       "    <tr>\n",
       "      <th>549</th>\n",
       "      <td>40.28</td>\n",
       "      <td>97.20</td>\n",
       "      <td>yumen</td>\n",
       "      <td>cn</td>\n",
       "      <td>broken clouds</td>\n",
       "      <td>8.55</td>\n",
       "      <td>1035</td>\n",
       "      <td>86</td>\n",
       "      <td>0.58</td>\n",
       "      <td>68</td>\n",
       "    </tr>\n",
       "    <tr>\n",
       "      <th>550</th>\n",
       "      <td>46.34</td>\n",
       "      <td>42.28</td>\n",
       "      <td>yashalta</td>\n",
       "      <td>ru</td>\n",
       "      <td>overcast clouds</td>\n",
       "      <td>38.16</td>\n",
       "      <td>1022</td>\n",
       "      <td>85</td>\n",
       "      <td>18.54</td>\n",
       "      <td>99</td>\n",
       "    </tr>\n",
       "    <tr>\n",
       "      <th>551</th>\n",
       "      <td>50.27</td>\n",
       "      <td>85.61</td>\n",
       "      <td>ust-koksa</td>\n",
       "      <td>ru</td>\n",
       "      <td>light snow</td>\n",
       "      <td>6.96</td>\n",
       "      <td>1041</td>\n",
       "      <td>89</td>\n",
       "      <td>1.03</td>\n",
       "      <td>100</td>\n",
       "    </tr>\n",
       "    <tr>\n",
       "      <th>552</th>\n",
       "      <td>-40.85</td>\n",
       "      <td>172.80</td>\n",
       "      <td>takaka</td>\n",
       "      <td>nz</td>\n",
       "      <td>overcast clouds</td>\n",
       "      <td>60.01</td>\n",
       "      <td>1025</td>\n",
       "      <td>80</td>\n",
       "      <td>3.00</td>\n",
       "      <td>89</td>\n",
       "    </tr>\n",
       "  </tbody>\n",
       "</table>\n",
       "<p>541 rows × 10 columns</p>\n",
       "</div>"
      ],
      "text/plain": [
       "       Lat     Lon       City Country       Description   Temp  Pressure  \\\n",
       "0   -33.93   18.42  cape town      za         clear sky  61.00      1012   \n",
       "1    55.74  -97.86   thompson      ca         clear sky -16.60      1021   \n",
       "2    18.39   42.45       faya      sa         clear sky  51.80      1024   \n",
       "3   -23.12 -134.97    rikitea      pf  scattered clouds  76.37      1015   \n",
       "4    59.45  112.56      vitim      ru     broken clouds -22.70      1037   \n",
       "..     ...     ...        ...     ...               ...    ...       ...   \n",
       "548  52.84   -8.99      ennis      ie     broken clouds  48.20       981   \n",
       "549  40.28   97.20      yumen      cn     broken clouds   8.55      1035   \n",
       "550  46.34   42.28   yashalta      ru   overcast clouds  38.16      1022   \n",
       "551  50.27   85.61  ust-koksa      ru        light snow   6.96      1041   \n",
       "552 -40.85  172.80     takaka      nz   overcast clouds  60.01      1025   \n",
       "\n",
       "     Humidity  Windspeed  Cloud Cover  \n",
       "0          82       1.12            0  \n",
       "1          75       5.82            5  \n",
       "2          49       1.19            0  \n",
       "3          68       5.70           39  \n",
       "4          81       4.92           68  \n",
       "..        ...        ...          ...  \n",
       "548        87      13.87           75  \n",
       "549        86       0.58           68  \n",
       "550        85      18.54           99  \n",
       "551        89       1.03          100  \n",
       "552        80       3.00           89  \n",
       "\n",
       "[541 rows x 10 columns]"
      ]
     },
     "execution_count": 8,
     "metadata": {},
     "output_type": "execute_result"
    }
   ],
   "source": [
    "df = df[df['Humidity'] < 100]\n",
    "df\n",
    "# Why would I make a separate dataframe? This implies that I have some use for the dirty_city_data. I don't."
   ]
  },
  {
   "cell_type": "markdown",
   "metadata": {},
   "source": [
    "## Plotting the Data\n",
    "* Use proper labeling of the plots using plot titles (including date of analysis) and axes labels.\n",
    "* Save the plotted figures as .pngs."
   ]
  },
  {
   "cell_type": "markdown",
   "metadata": {},
   "source": [
    "## Latitude vs. Temperature Plot"
   ]
  },
  {
   "cell_type": "code",
   "execution_count": 9,
   "metadata": {
    "scrolled": true
   },
   "outputs": [
    {
     "data": {
      "image/png": "[encoded data removed]",
      "text/plain": [
       "<Figure size 432x288 with 1 Axes>"
      ]
     },
     "metadata": {
      "needs_background": "light"
     },
     "output_type": "display_data"
    }
   ],
   "source": [
    "df.plot(kind='scatter', x='Lat', y='Temp')\n",
    "plt.title('Temperature')\n",
    "plt.savefig('../output_data/Temp.png')\n",
    "plt.show()\n",
    "#This code visualizes the relationship between physical location and temperature"
   ]
  },
  {
   "cell_type": "markdown",
   "metadata": {},
   "source": [
    "## Latitude vs. Humidity Plot"
   ]
  },
  {
   "cell_type": "code",
   "execution_count": 10,
   "metadata": {},
   "outputs": [
    {
     "data": {
      "image/png": "[encoded data removed]",
      "text/plain": [
       "<Figure size 432x288 with 1 Axes>"
      ]
     },
     "metadata": {
      "needs_background": "light"
     },
     "output_type": "display_data"
    }
   ],
   "source": [
    "df.plot(kind='scatter', x='Lat', y='Humidity')\n",
    "plt.title('Humidity')\n",
    "plt.savefig('../output_data/Humidity.png')\n",
    "plt.show()\n",
    "#This code visualizes the relationship between physical location and wetness"
   ]
  },
  {
   "cell_type": "markdown",
   "metadata": {},
   "source": [
    "## Latitude vs. Cloudiness Plot"
   ]
  },
  {
   "cell_type": "code",
   "execution_count": 11,
   "metadata": {},
   "outputs": [
    {
     "data": {
      "image/png": "[encoded data removed]",
      "text/plain": [
       "<Figure size 432x288 with 1 Axes>"
      ]
     },
     "metadata": {
      "needs_background": "light"
     },
     "output_type": "display_data"
    }
   ],
   "source": [
    "df.plot(kind='scatter', x='Lat', y='Cloud Cover')\n",
    "plt.savefig('../output_data/Clouds.png')\n",
    "plt.title('Cloudiness')\n",
    "plt.show()\n",
    "#This code visualizes the relationship between physical location and cloud cover"
   ]
  },
  {
   "cell_type": "markdown",
   "metadata": {},
   "source": [
    "## Latitude vs. Wind Speed Plot"
   ]
  },
  {
   "cell_type": "code",
   "execution_count": 12,
   "metadata": {},
   "outputs": [
    {
     "data": {
      "image/png": "[encoded data removed]",
      "text/plain": [
       "<Figure size 432x288 with 1 Axes>"
      ]
     },
     "metadata": {
      "needs_background": "light"
     },
     "output_type": "display_data"
    }
   ],
   "source": [
    "df.plot(kind='scatter', x='Lat', y='Windspeed')\n",
    "plt.savefig('../output_data/Wind.png')\n",
    "plt.title('Wind Speed')\n",
    "plt.show()\n",
    "#This code visualizes the relationship between physical location and Wind Speed"
   ]
  },
  {
   "cell_type": "markdown",
   "metadata": {},
   "source": [
    "## Linear Regression"
   ]
  },
  {
   "cell_type": "code",
   "execution_count": 13,
   "metadata": {},
   "outputs": [],
   "source": [
    "north = df[df['Lat'] >= 0]\n",
    "south = df[df['Lat'] < 0]\n"
   ]
  },
  {
   "cell_type": "markdown",
   "metadata": {},
   "source": [
    "####  Northern Hemisphere - Temp vs. Latitude Linear Regression"
   ]
  },
  {
   "cell_type": "code",
   "execution_count": 14,
   "metadata": {},
   "outputs": [],
   "source": [
    "# regression Function\n",
    "def regress(hemisphere, col):\n",
    "    y = hemisphere[col]\n",
    "    x = hemisphere['Lat']\n",
    "    model = linregress(x, y)\n",
    "    slope = model[0]\n",
    "    intercept = model[1]\n",
    "    predictions = [slope * exog + intercept for exog in x]\n",
    "    hemisphere.plot(kind='scatter', x='Lat', y=col)\n",
    "    plt.plot(hemisphere['Lat'], predictions)\n",
    "    \n",
    "    \n",
    "    # Check hemisphere\n",
    "    if hemisphere.iloc[0]['Lat'] >= 0:\n",
    "        title = f'north_{col}_regression.png'\n",
    "    else:\n",
    "        title = f'south_{col}_regression.png'\n",
    "    \n",
    "    fig = plt.gcf()\n",
    "    fig.savefig('../output_data/regressions/' + title)\n",
    "    \n",
    "    plt.show()\n",
    "    "
   ]
  },
  {
   "cell_type": "code",
   "execution_count": 15,
   "metadata": {},
   "outputs": [
    {
     "data": {
      "image/png": "[encoded data removed]",
      "text/plain": [
       "<Figure size 432x288 with 1 Axes>"
      ]
     },
     "metadata": {
      "needs_background": "light"
     },
     "output_type": "display_data"
    }
   ],
   "source": [
    "regress(north, 'Temp')"
   ]
  },
  {
   "cell_type": "markdown",
   "metadata": {},
   "source": [
    "Takeaway: As you get further north you get from the equator, the temperature is expected to drop"
   ]
  },
  {
   "cell_type": "markdown",
   "metadata": {},
   "source": [
    "####  Southern Hemisphere - Temp vs. Latitude Linear Regression"
   ]
  },
  {
   "cell_type": "code",
   "execution_count": 16,
   "metadata": {},
   "outputs": [
    {
     "data": {
      "image/png": "[encoded data removed]",
      "text/plain": [
       "<Figure size 432x288 with 1 Axes>"
      ]
     },
     "metadata": {
      "needs_background": "light"
     },
     "output_type": "display_data"
    }
   ],
   "source": [
    "regress(south, 'Temp')"
   ]
  },
  {
   "cell_type": "markdown",
   "metadata": {},
   "source": [
    "Takeaway: As you get further south you get from the equator, the temperature is expected to drop"
   ]
  },
  {
   "cell_type": "markdown",
   "metadata": {},
   "source": [
    "####  Northern Hemisphere - Humidity (%) vs. Latitude Linear Regression"
   ]
  },
  {
   "cell_type": "code",
   "execution_count": 17,
   "metadata": {},
   "outputs": [
    {
     "data": {
      "image/png": "[encoded data removed]",
      "text/plain": [
       "<Figure size 432x288 with 1 Axes>"
      ]
     },
     "metadata": {
      "needs_background": "light"
     },
     "output_type": "display_data"
    }
   ],
   "source": [
    "regress(north, 'Humidity')"
   ]
  },
  {
   "cell_type": "markdown",
   "metadata": {},
   "source": [
    "Taekaway: As you get further north from the equator, humidity is expected to rise"
   ]
  },
  {
   "cell_type": "markdown",
   "metadata": {},
   "source": [
    "####  Southern Hemisphere - Humidity (%) vs. Latitude Linear Regression"
   ]
  },
  {
   "cell_type": "code",
   "execution_count": 18,
   "metadata": {},
   "outputs": [
    {
     "data": {
      "image/png": "[encoded data removed]",
      "text/plain": [
       "<Figure size 432x288 with 1 Axes>"
      ]
     },
     "metadata": {
      "needs_background": "light"
     },
     "output_type": "display_data"
    }
   ],
   "source": [
    "regress(south, 'Humidity')"
   ]
  },
  {
   "cell_type": "markdown",
   "metadata": {},
   "source": [
    "Takeaway: As you get further south from the equator, humidity is expected to drop\n",
    "\n",
    "Unlike temperature, which varies directly with the *absolute value* of latitude, humidity just varies directly with latitude"
   ]
  },
  {
   "cell_type": "markdown",
   "metadata": {},
   "source": [
    "####  Northern Hemisphere - Cloudiness (%) vs. Latitude Linear Regression"
   ]
  },
  {
   "cell_type": "code",
   "execution_count": 19,
   "metadata": {},
   "outputs": [
    {
     "data": {
      "image/png": "[encoded data removed]",
      "text/plain": [
       "<Figure size 432x288 with 1 Axes>"
      ]
     },
     "metadata": {
      "needs_background": "light"
     },
     "output_type": "display_data"
    }
   ],
   "source": [
    "regress(north, 'Cloud Cover')"
   ]
  },
  {
   "cell_type": "markdown",
   "metadata": {},
   "source": [
    "Taekaway: As you get further north from the equator, you are expected to see more clouds"
   ]
  },
  {
   "cell_type": "markdown",
   "metadata": {},
   "source": [
    "####  Southern Hemisphere - Cloudiness (%) vs. Latitude Linear Regression"
   ]
  },
  {
   "cell_type": "code",
   "execution_count": 20,
   "metadata": {},
   "outputs": [
    {
     "data": {
      "image/png": "[encoded data removed]",
      "text/plain": [
       "<Figure size 432x288 with 1 Axes>"
      ]
     },
     "metadata": {
      "needs_background": "light"
     },
     "output_type": "display_data"
    }
   ],
   "source": [
    "regress(south, 'Cloud Cover')"
   ]
  },
  {
   "cell_type": "markdown",
   "metadata": {},
   "source": [
    "Takeaway: As you get further south from the equator, you are expected to see fewer clouds\n",
    "\n",
    "Again, we see that clouds vary directly with latitude, not with latitude's absolute value"
   ]
  },
  {
   "cell_type": "markdown",
   "metadata": {},
   "source": [
    "####  Northern Hemisphere - Wind Speed (mph) vs. Latitude Linear Regression"
   ]
  },
  {
   "cell_type": "code",
   "execution_count": 21,
   "metadata": {},
   "outputs": [
    {
     "data": {
      "image/png": "[encoded data removed]",
      "text/plain": [
       "<Figure size 432x288 with 1 Axes>"
      ]
     },
     "metadata": {
      "needs_background": "light"
     },
     "output_type": "display_data"
    }
   ],
   "source": [
    "regress(north, 'Windspeed')"
   ]
  },
  {
   "cell_type": "markdown",
   "metadata": {},
   "source": [
    "Takeaway: In the northern hemisphere, windspeed does not seem to depend very much on latitude\n",
    "\n",
    "There is a slight upward trend"
   ]
  },
  {
   "cell_type": "markdown",
   "metadata": {},
   "source": [
    "####  Southern Hemisphere - Wind Speed (mph) vs. Latitude Linear Regression"
   ]
  },
  {
   "cell_type": "code",
   "execution_count": 22,
   "metadata": {},
   "outputs": [
    {
     "data": {
      "image/png": "[encoded data removed]",
      "text/plain": [
       "<Figure size 432x288 with 1 Axes>"
      ]
     },
     "metadata": {
      "needs_background": "light"
     },
     "output_type": "display_data"
    }
   ],
   "source": [
    "regress(south, 'Windspeed')"
   ]
  },
  {
   "cell_type": "markdown",
   "metadata": {},
   "source": [
    "Takeaway: There is also a very weak relationship between wind and latitude in the Souther hemisphere\n",
    "\n",
    "As you move north, wind speed tends to drop"
   ]
  }
 ],
 "metadata": {
  "anaconda-cloud": {},
  "kernel_info": {
   "name": "python3"
  },
  "kernelspec": {
   "display_name": "Python 3",
   "language": "python",
   "name": "python3"
  },
  "language_info": {
   "codemirror_mode": {
    "name": "ipython",
    "version": 3
   },
   "file_extension": ".py",
   "mimetype": "text/x-python",
   "name": "python",
   "nbconvert_exporter": "python",
   "pygments_lexer": "ipython3",
   "version": "3.8.5"
  },
  "latex_envs": {
   "LaTeX_envs_menu_present": true,
   "autoclose": false,
   "autocomplete": true,
   "bibliofile": "biblio.bib",
   "cite_by": "apalike",
   "current_citInitial": 1,
   "eqLabelWithNumbers": true,
   "eqNumInitial": 1,
   "hotkeys": {
    "equation": "Ctrl-E",
    "itemize": "Ctrl-I"
   },
   "labels_anchors": false,
   "latex_user_defs": false,
   "report_style_numbering": false,
   "user_envs_cfg": false
  },
  "nteract": {
   "version": "0.12.3"
  }
 },
 "nbformat": 4,
 "nbformat_minor": 2
}
